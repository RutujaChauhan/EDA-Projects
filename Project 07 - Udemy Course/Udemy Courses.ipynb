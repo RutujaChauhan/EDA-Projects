{
 "cells": [
  {
   "cell_type": "code",
   "execution_count": 1,
   "id": "9b366dfa-c148-4340-bb18-2942e56ac281",
   "metadata": {},
   "outputs": [
    {
     "data": {
      "text/html": [
       "<div>\n",
       "<style scoped>\n",
       "    .dataframe tbody tr th:only-of-type {\n",
       "        vertical-align: middle;\n",
       "    }\n",
       "\n",
       "    .dataframe tbody tr th {\n",
       "        vertical-align: top;\n",
       "    }\n",
       "\n",
       "    .dataframe thead th {\n",
       "        text-align: right;\n",
       "    }\n",
       "</style>\n",
       "<table border=\"1\" class=\"dataframe\">\n",
       "  <thead>\n",
       "    <tr style=\"text-align: right;\">\n",
       "      <th></th>\n",
       "      <th>course_id</th>\n",
       "      <th>course_title</th>\n",
       "      <th>is_paid</th>\n",
       "      <th>price</th>\n",
       "      <th>num_subscribers</th>\n",
       "      <th>num_reviews</th>\n",
       "      <th>num_lectures</th>\n",
       "      <th>level</th>\n",
       "      <th>content_duration</th>\n",
       "      <th>published_timestamp</th>\n",
       "      <th>subject</th>\n",
       "    </tr>\n",
       "  </thead>\n",
       "  <tbody>\n",
       "    <tr>\n",
       "      <th>0</th>\n",
       "      <td>288942</td>\n",
       "      <td>#1 Piano Hand Coordination: Play 10th Ballad i...</td>\n",
       "      <td>True</td>\n",
       "      <td>35</td>\n",
       "      <td>3137</td>\n",
       "      <td>18</td>\n",
       "      <td>68</td>\n",
       "      <td>All Levels</td>\n",
       "      <td>1.5 hours</td>\n",
       "      <td>2014-09-18T05:07:05Z</td>\n",
       "      <td>Musical Instruments</td>\n",
       "    </tr>\n",
       "    <tr>\n",
       "      <th>1</th>\n",
       "      <td>1170074</td>\n",
       "      <td>#10 Hand Coordination - Transfer Chord Ballad ...</td>\n",
       "      <td>True</td>\n",
       "      <td>75</td>\n",
       "      <td>1593</td>\n",
       "      <td>1</td>\n",
       "      <td>41</td>\n",
       "      <td>Intermediate Level</td>\n",
       "      <td>1 hour</td>\n",
       "      <td>2017-04-12T19:06:34Z</td>\n",
       "      <td>Musical Instruments</td>\n",
       "    </tr>\n",
       "    <tr>\n",
       "      <th>2</th>\n",
       "      <td>1193886</td>\n",
       "      <td>#12 Hand Coordination: Let your Hands dance wi...</td>\n",
       "      <td>True</td>\n",
       "      <td>75</td>\n",
       "      <td>482</td>\n",
       "      <td>1</td>\n",
       "      <td>47</td>\n",
       "      <td>Intermediate Level</td>\n",
       "      <td>1.5 hours</td>\n",
       "      <td>2017-04-26T18:34:57Z</td>\n",
       "      <td>Musical Instruments</td>\n",
       "    </tr>\n",
       "    <tr>\n",
       "      <th>3</th>\n",
       "      <td>1116700</td>\n",
       "      <td>#4 Piano Hand Coordination: Fun Piano Runs in ...</td>\n",
       "      <td>True</td>\n",
       "      <td>75</td>\n",
       "      <td>850</td>\n",
       "      <td>3</td>\n",
       "      <td>43</td>\n",
       "      <td>Intermediate Level</td>\n",
       "      <td>1 hour</td>\n",
       "      <td>2017-02-21T23:48:18Z</td>\n",
       "      <td>Musical Instruments</td>\n",
       "    </tr>\n",
       "    <tr>\n",
       "      <th>4</th>\n",
       "      <td>1120410</td>\n",
       "      <td>#5  Piano Hand Coordination:  Piano Runs in 2 ...</td>\n",
       "      <td>True</td>\n",
       "      <td>75</td>\n",
       "      <td>940</td>\n",
       "      <td>3</td>\n",
       "      <td>32</td>\n",
       "      <td>Intermediate Level</td>\n",
       "      <td>37 mins</td>\n",
       "      <td>2017-02-21T23:44:49Z</td>\n",
       "      <td>Musical Instruments</td>\n",
       "    </tr>\n",
       "    <tr>\n",
       "      <th>...</th>\n",
       "      <td>...</td>\n",
       "      <td>...</td>\n",
       "      <td>...</td>\n",
       "      <td>...</td>\n",
       "      <td>...</td>\n",
       "      <td>...</td>\n",
       "      <td>...</td>\n",
       "      <td>...</td>\n",
       "      <td>...</td>\n",
       "      <td>...</td>\n",
       "      <td>...</td>\n",
       "    </tr>\n",
       "    <tr>\n",
       "      <th>3677</th>\n",
       "      <td>328960</td>\n",
       "      <td>Your Own Site in 45 Min: The Complete Wordpres...</td>\n",
       "      <td>True</td>\n",
       "      <td>120</td>\n",
       "      <td>1566</td>\n",
       "      <td>29</td>\n",
       "      <td>36</td>\n",
       "      <td>All Levels</td>\n",
       "      <td>4 hours</td>\n",
       "      <td>2015-04-20T22:15:17Z</td>\n",
       "      <td>Web Development</td>\n",
       "    </tr>\n",
       "    <tr>\n",
       "      <th>3678</th>\n",
       "      <td>552700</td>\n",
       "      <td>Your Second Course on Piano: Two Handed Playing</td>\n",
       "      <td>True</td>\n",
       "      <td>70</td>\n",
       "      <td>1018</td>\n",
       "      <td>12</td>\n",
       "      <td>22</td>\n",
       "      <td>Beginner Level</td>\n",
       "      <td>5 hours</td>\n",
       "      <td>2015-10-26T20:04:21Z</td>\n",
       "      <td>Musical Instruments</td>\n",
       "    </tr>\n",
       "    <tr>\n",
       "      <th>3679</th>\n",
       "      <td>631754</td>\n",
       "      <td>Zend Framework 2: Learn the PHP framework ZF2 ...</td>\n",
       "      <td>True</td>\n",
       "      <td>40</td>\n",
       "      <td>723</td>\n",
       "      <td>130</td>\n",
       "      <td>37</td>\n",
       "      <td>All Levels</td>\n",
       "      <td>6.5 hours</td>\n",
       "      <td>2015-11-11T18:55:45Z</td>\n",
       "      <td>Web Development</td>\n",
       "    </tr>\n",
       "    <tr>\n",
       "      <th>3680</th>\n",
       "      <td>1225194</td>\n",
       "      <td>Zoho Books Gestion Financière d'Entreprise pas...</td>\n",
       "      <td>False</td>\n",
       "      <td>Free</td>\n",
       "      <td>229</td>\n",
       "      <td>0</td>\n",
       "      <td>33</td>\n",
       "      <td>All Levels</td>\n",
       "      <td>2 hours</td>\n",
       "      <td>2017-05-26T16:45:55Z</td>\n",
       "      <td>Business Finance</td>\n",
       "    </tr>\n",
       "    <tr>\n",
       "      <th>3681</th>\n",
       "      <td>964478</td>\n",
       "      <td>Zombie Apocalypse Photoshop Actions</td>\n",
       "      <td>True</td>\n",
       "      <td>50</td>\n",
       "      <td>12</td>\n",
       "      <td>1</td>\n",
       "      <td>15</td>\n",
       "      <td>All Levels</td>\n",
       "      <td>1.5 hours</td>\n",
       "      <td>2016-09-26T22:19:48Z</td>\n",
       "      <td>Graphic Design</td>\n",
       "    </tr>\n",
       "  </tbody>\n",
       "</table>\n",
       "<p>3682 rows × 11 columns</p>\n",
       "</div>"
      ],
      "text/plain": [
       "      course_id                                       course_title  is_paid  \\\n",
       "0        288942  #1 Piano Hand Coordination: Play 10th Ballad i...     True   \n",
       "1       1170074  #10 Hand Coordination - Transfer Chord Ballad ...     True   \n",
       "2       1193886  #12 Hand Coordination: Let your Hands dance wi...     True   \n",
       "3       1116700  #4 Piano Hand Coordination: Fun Piano Runs in ...     True   \n",
       "4       1120410  #5  Piano Hand Coordination:  Piano Runs in 2 ...     True   \n",
       "...         ...                                                ...      ...   \n",
       "3677     328960  Your Own Site in 45 Min: The Complete Wordpres...     True   \n",
       "3678     552700    Your Second Course on Piano: Two Handed Playing     True   \n",
       "3679     631754  Zend Framework 2: Learn the PHP framework ZF2 ...     True   \n",
       "3680    1225194  Zoho Books Gestion Financière d'Entreprise pas...    False   \n",
       "3681     964478                Zombie Apocalypse Photoshop Actions     True   \n",
       "\n",
       "     price  num_subscribers  num_reviews  num_lectures               level  \\\n",
       "0       35             3137           18            68          All Levels   \n",
       "1       75             1593            1            41  Intermediate Level   \n",
       "2       75              482            1            47  Intermediate Level   \n",
       "3       75              850            3            43  Intermediate Level   \n",
       "4       75              940            3            32  Intermediate Level   \n",
       "...    ...              ...          ...           ...                 ...   \n",
       "3677   120             1566           29            36          All Levels   \n",
       "3678    70             1018           12            22      Beginner Level   \n",
       "3679    40              723          130            37          All Levels   \n",
       "3680  Free              229            0            33          All Levels   \n",
       "3681    50               12            1            15          All Levels   \n",
       "\n",
       "     content_duration   published_timestamp              subject  \n",
       "0           1.5 hours  2014-09-18T05:07:05Z  Musical Instruments  \n",
       "1              1 hour  2017-04-12T19:06:34Z  Musical Instruments  \n",
       "2           1.5 hours  2017-04-26T18:34:57Z  Musical Instruments  \n",
       "3              1 hour  2017-02-21T23:48:18Z  Musical Instruments  \n",
       "4             37 mins  2017-02-21T23:44:49Z  Musical Instruments  \n",
       "...               ...                   ...                  ...  \n",
       "3677          4 hours  2015-04-20T22:15:17Z      Web Development  \n",
       "3678          5 hours  2015-10-26T20:04:21Z  Musical Instruments  \n",
       "3679        6.5 hours  2015-11-11T18:55:45Z      Web Development  \n",
       "3680          2 hours  2017-05-26T16:45:55Z     Business Finance  \n",
       "3681        1.5 hours  2016-09-26T22:19:48Z       Graphic Design  \n",
       "\n",
       "[3682 rows x 11 columns]"
      ]
     },
     "execution_count": 1,
     "metadata": {},
     "output_type": "execute_result"
    }
   ],
   "source": [
    "import pandas as pd\n",
    "df = pd.read_csv(\"Udemy Courses.csv\")\n",
    "df"
   ]
  },
  {
   "cell_type": "markdown",
   "id": "a03fff05-5cd1-4323-92a6-631cc167593b",
   "metadata": {},
   "source": [
    "Q. 1) What are all different subjects for which Udemy is offering courses ?"
   ]
  },
  {
   "cell_type": "code",
   "execution_count": 2,
   "id": "b0dbe2cc-5eae-491b-8082-3ba975706c63",
   "metadata": {},
   "outputs": [
    {
     "data": {
      "text/plain": [
       "array(['Musical Instruments', 'Business Finance', 'Graphic Design',\n",
       "       'Web Development'], dtype=object)"
      ]
     },
     "execution_count": 2,
     "metadata": {},
     "output_type": "execute_result"
    }
   ],
   "source": [
    "df.subject.unique()"
   ]
  },
  {
   "cell_type": "markdown",
   "id": "39fc21d0-7e64-4f95-bd1f-caf2571a92b4",
   "metadata": {},
   "source": [
    "Q. 2) Which subject has the maximum number of courses."
   ]
  },
  {
   "cell_type": "code",
   "execution_count": 3,
   "id": "41bdd311-5342-4980-89ab-a9bcce022036",
   "metadata": {},
   "outputs": [
    {
     "data": {
      "text/plain": [
       "Web Development    1200\n",
       "Name: subject, dtype: int64"
      ]
     },
     "execution_count": 3,
     "metadata": {},
     "output_type": "execute_result"
    }
   ],
   "source": [
    "df.subject.value_counts().head(1)"
   ]
  },
  {
   "cell_type": "markdown",
   "id": "cf9d7246-780a-4880-8c06-5f2572e521e4",
   "metadata": {},
   "source": [
    "Q. 3) Show all the courses which are Free of Cost."
   ]
  },
  {
   "cell_type": "code",
   "execution_count": 4,
   "id": "cea2624b-04ba-4864-93db-c48b6d44614f",
   "metadata": {},
   "outputs": [
    {
     "data": {
      "text/plain": [
       "41            5 lecciones que todo guitarrista debe tomar\n",
       "49      7 Ways A Beginner Guitarist Can Sound Better, ...\n",
       "57      A beginner`s guide to fingerpicking and strumm...\n",
       "67                                 A how to guide in HTML\n",
       "74      ¡Triunfar en La Bolsa de Valores No Requiere d...\n",
       "                              ...                        \n",
       "3620    WordPress in under an hour - Create/manage you...\n",
       "3638                       Wordpress Website Mastery 2017\n",
       "3652    Write quicker HTML5 and CSS 3; productivity ha...\n",
       "3674    Your First 10 Guitar Lessons - Learn how to pl...\n",
       "3680    Zoho Books Gestion Financière d'Entreprise pas...\n",
       "Name: course_title, Length: 310, dtype: object"
      ]
     },
     "execution_count": 4,
     "metadata": {},
     "output_type": "execute_result"
    }
   ],
   "source": [
    "df[df.price=='Free']['course_title']"
   ]
  },
  {
   "cell_type": "markdown",
   "id": "83166210-079f-415c-8149-1b30df1cd4ca",
   "metadata": {},
   "source": [
    "Q. 4) Show all the courses which are Paid."
   ]
  },
  {
   "cell_type": "code",
   "execution_count": 5,
   "id": "b53ef425-ca61-4805-b38a-244234f3593e",
   "metadata": {},
   "outputs": [
    {
     "data": {
      "text/plain": [
       "0       #1 Piano Hand Coordination: Play 10th Ballad i...\n",
       "1       #10 Hand Coordination - Transfer Chord Ballad ...\n",
       "2       #12 Hand Coordination: Let your Hands dance wi...\n",
       "3       #4 Piano Hand Coordination: Fun Piano Runs in ...\n",
       "4       #5  Piano Hand Coordination:  Piano Runs in 2 ...\n",
       "                              ...                        \n",
       "3676    Your First Successful Forex Trades - With Case...\n",
       "3677    Your Own Site in 45 Min: The Complete Wordpres...\n",
       "3678      Your Second Course on Piano: Two Handed Playing\n",
       "3679    Zend Framework 2: Learn the PHP framework ZF2 ...\n",
       "3681                  Zombie Apocalypse Photoshop Actions\n",
       "Name: course_title, Length: 3372, dtype: object"
      ]
     },
     "execution_count": 5,
     "metadata": {},
     "output_type": "execute_result"
    }
   ],
   "source": [
    "df[df.price!='Free']['course_title']"
   ]
  },
  {
   "cell_type": "markdown",
   "id": "0ec5404b-01e9-424b-825b-a486d4a8e9dd",
   "metadata": {},
   "source": [
    "Q. 5) Which are Top Selling Courses ?"
   ]
  },
  {
   "cell_type": "code",
   "execution_count": 6,
   "id": "670d3b07-3bcd-4367-8f23-c407cf7affd3",
   "metadata": {},
   "outputs": [
    {
     "data": {
      "text/plain": [
       "2230                 Learn HTML5 Programming From Scratch\n",
       "776                        Coding for Entrepreneurs Basic\n",
       "3385                           The Web Developer Bootcamp\n",
       "640     Build Your First Website in 1 Week with HTML5 ...\n",
       "3316                The Complete Web Developer Course 2.0\n",
       "Name: course_title, dtype: object"
      ]
     },
     "execution_count": 6,
     "metadata": {},
     "output_type": "execute_result"
    }
   ],
   "source": [
    "df.sort_values(by='num_subscribers',ascending=False)['course_title'].head(5)"
   ]
  },
  {
   "cell_type": "markdown",
   "id": "d4874762-2c3f-4e62-a9f5-7b59d6f28e7c",
   "metadata": {},
   "source": [
    "Q. 6) Which are Least Selling Courses ?"
   ]
  },
  {
   "cell_type": "code",
   "execution_count": 7,
   "id": "36cb0b58-1d15-4cfe-925f-7a5c05a00b2c",
   "metadata": {},
   "outputs": [
    {
     "data": {
      "text/plain": [
       "649                    Building a Balanced Scorecard\n",
       "3259       The Cash Flow Statement - An Introduction\n",
       "3261                 The Complete Adobe Spark Course\n",
       "910     Create Beautiful Image Maps for Your Website\n",
       "3328     The Cuckoo Strategy to get European Funding\n",
       "Name: course_title, dtype: object"
      ]
     },
     "execution_count": 7,
     "metadata": {},
     "output_type": "execute_result"
    }
   ],
   "source": [
    "df.sort_values(by='num_subscribers',ascending=True)['course_title'].head(5)"
   ]
  },
  {
   "cell_type": "markdown",
   "id": "a103d543-647a-49a6-9918-aa4e92e42e5b",
   "metadata": {},
   "source": [
    "Q. 7) Show all courses of Graphic Design where the price is below 100 ?"
   ]
  },
  {
   "cell_type": "code",
   "execution_count": 8,
   "id": "779cd1b6-ee22-4e4a-9d0d-8a2af5dd5216",
   "metadata": {},
   "outputs": [],
   "source": [
    "df.price.replace(\"Free\",0,inplace=True)"
   ]
  },
  {
   "cell_type": "code",
   "execution_count": 9,
   "id": "7fd216b6-7610-454c-b8b1-7b8279e89f5d",
   "metadata": {},
   "outputs": [
    {
     "data": {
      "text/html": [
       "<div>\n",
       "<style scoped>\n",
       "    .dataframe tbody tr th:only-of-type {\n",
       "        vertical-align: middle;\n",
       "    }\n",
       "\n",
       "    .dataframe tbody tr th {\n",
       "        vertical-align: top;\n",
       "    }\n",
       "\n",
       "    .dataframe thead th {\n",
       "        text-align: right;\n",
       "    }\n",
       "</style>\n",
       "<table border=\"1\" class=\"dataframe\">\n",
       "  <thead>\n",
       "    <tr style=\"text-align: right;\">\n",
       "      <th></th>\n",
       "      <th>course_id</th>\n",
       "      <th>course_title</th>\n",
       "      <th>is_paid</th>\n",
       "      <th>price</th>\n",
       "      <th>num_subscribers</th>\n",
       "      <th>num_reviews</th>\n",
       "      <th>num_lectures</th>\n",
       "      <th>level</th>\n",
       "      <th>content_duration</th>\n",
       "      <th>published_timestamp</th>\n",
       "      <th>subject</th>\n",
       "    </tr>\n",
       "  </thead>\n",
       "  <tbody>\n",
       "    <tr>\n",
       "      <th>8</th>\n",
       "      <td>206592</td>\n",
       "      <td>:::Beginners Guide To Creating Amazing Images ...</td>\n",
       "      <td>True</td>\n",
       "      <td>25</td>\n",
       "      <td>72</td>\n",
       "      <td>5</td>\n",
       "      <td>17</td>\n",
       "      <td>Beginner Level</td>\n",
       "      <td>1 hour</td>\n",
       "      <td>2014-04-29T19:50:31Z</td>\n",
       "      <td>Graphic Design</td>\n",
       "    </tr>\n",
       "    <tr>\n",
       "      <th>20</th>\n",
       "      <td>1165268</td>\n",
       "      <td>15  Motion Graphic Elements in After Effect (S...</td>\n",
       "      <td>True</td>\n",
       "      <td>30</td>\n",
       "      <td>8</td>\n",
       "      <td>0</td>\n",
       "      <td>20</td>\n",
       "      <td>Intermediate Level</td>\n",
       "      <td>3 hours</td>\n",
       "      <td>2017-04-11T04:27:34Z</td>\n",
       "      <td>Graphic Design</td>\n",
       "    </tr>\n",
       "    <tr>\n",
       "      <th>35</th>\n",
       "      <td>1164876</td>\n",
       "      <td>3DS MAX - Learn 3Ds MAX tutorial for Beginners...</td>\n",
       "      <td>True</td>\n",
       "      <td>20</td>\n",
       "      <td>785</td>\n",
       "      <td>2</td>\n",
       "      <td>29</td>\n",
       "      <td>All Levels</td>\n",
       "      <td>4.5 hours</td>\n",
       "      <td>2017-04-18T16:45:59Z</td>\n",
       "      <td>Graphic Design</td>\n",
       "    </tr>\n",
       "    <tr>\n",
       "      <th>39</th>\n",
       "      <td>599652</td>\n",
       "      <td>48 Logo Designs and Techniques</td>\n",
       "      <td>True</td>\n",
       "      <td>20</td>\n",
       "      <td>113</td>\n",
       "      <td>9</td>\n",
       "      <td>48</td>\n",
       "      <td>All Levels</td>\n",
       "      <td>9 hours</td>\n",
       "      <td>2015-09-15T00:23:14Z</td>\n",
       "      <td>Graphic Design</td>\n",
       "    </tr>\n",
       "    <tr>\n",
       "      <th>52</th>\n",
       "      <td>794036</td>\n",
       "      <td>8 Stunden professionelles Cinema 4D Training</td>\n",
       "      <td>True</td>\n",
       "      <td>50</td>\n",
       "      <td>18</td>\n",
       "      <td>1</td>\n",
       "      <td>38</td>\n",
       "      <td>All Levels</td>\n",
       "      <td>8.5 hours</td>\n",
       "      <td>2016-03-22T20:51:28Z</td>\n",
       "      <td>Graphic Design</td>\n",
       "    </tr>\n",
       "    <tr>\n",
       "      <th>...</th>\n",
       "      <td>...</td>\n",
       "      <td>...</td>\n",
       "      <td>...</td>\n",
       "      <td>...</td>\n",
       "      <td>...</td>\n",
       "      <td>...</td>\n",
       "      <td>...</td>\n",
       "      <td>...</td>\n",
       "      <td>...</td>\n",
       "      <td>...</td>\n",
       "      <td>...</td>\n",
       "    </tr>\n",
       "    <tr>\n",
       "      <th>3568</th>\n",
       "      <td>133968</td>\n",
       "      <td>Web Elements Design With Photoshop</td>\n",
       "      <td>True</td>\n",
       "      <td>45</td>\n",
       "      <td>5072</td>\n",
       "      <td>38</td>\n",
       "      <td>44</td>\n",
       "      <td>All Levels</td>\n",
       "      <td>5 hours</td>\n",
       "      <td>2014-10-21T19:18:12Z</td>\n",
       "      <td>Graphic Design</td>\n",
       "    </tr>\n",
       "    <tr>\n",
       "      <th>3588</th>\n",
       "      <td>1131780</td>\n",
       "      <td>Whiteboard Animation, Beginner To Expert - In ...</td>\n",
       "      <td>True</td>\n",
       "      <td>20</td>\n",
       "      <td>1343</td>\n",
       "      <td>25</td>\n",
       "      <td>16</td>\n",
       "      <td>All Levels</td>\n",
       "      <td>1 hour</td>\n",
       "      <td>2017-03-14T20:52:30Z</td>\n",
       "      <td>Graphic Design</td>\n",
       "    </tr>\n",
       "    <tr>\n",
       "      <th>3639</th>\n",
       "      <td>1122306</td>\n",
       "      <td>Wordpress: Comment utiliser le thème FABLE</td>\n",
       "      <td>True</td>\n",
       "      <td>20</td>\n",
       "      <td>1</td>\n",
       "      <td>0</td>\n",
       "      <td>10</td>\n",
       "      <td>Beginner Level</td>\n",
       "      <td>39 mins</td>\n",
       "      <td>2017-03-07T16:53:27Z</td>\n",
       "      <td>Graphic Design</td>\n",
       "    </tr>\n",
       "    <tr>\n",
       "      <th>3671</th>\n",
       "      <td>144222</td>\n",
       "      <td>YOU can Draw, Shade and Paint a Mixed Media Gi...</td>\n",
       "      <td>True</td>\n",
       "      <td>30</td>\n",
       "      <td>1249</td>\n",
       "      <td>44</td>\n",
       "      <td>19</td>\n",
       "      <td>Beginner Level</td>\n",
       "      <td>3 hours</td>\n",
       "      <td>2014-01-28T02:30:26Z</td>\n",
       "      <td>Graphic Design</td>\n",
       "    </tr>\n",
       "    <tr>\n",
       "      <th>3681</th>\n",
       "      <td>964478</td>\n",
       "      <td>Zombie Apocalypse Photoshop Actions</td>\n",
       "      <td>True</td>\n",
       "      <td>50</td>\n",
       "      <td>12</td>\n",
       "      <td>1</td>\n",
       "      <td>15</td>\n",
       "      <td>All Levels</td>\n",
       "      <td>1.5 hours</td>\n",
       "      <td>2016-09-26T22:19:48Z</td>\n",
       "      <td>Graphic Design</td>\n",
       "    </tr>\n",
       "  </tbody>\n",
       "</table>\n",
       "<p>485 rows × 11 columns</p>\n",
       "</div>"
      ],
      "text/plain": [
       "      course_id                                       course_title  is_paid  \\\n",
       "8        206592  :::Beginners Guide To Creating Amazing Images ...     True   \n",
       "20      1165268  15  Motion Graphic Elements in After Effect (S...     True   \n",
       "35      1164876  3DS MAX - Learn 3Ds MAX tutorial for Beginners...     True   \n",
       "39       599652                     48 Logo Designs and Techniques     True   \n",
       "52       794036       8 Stunden professionelles Cinema 4D Training     True   \n",
       "...         ...                                                ...      ...   \n",
       "3568     133968                 Web Elements Design With Photoshop     True   \n",
       "3588    1131780  Whiteboard Animation, Beginner To Expert - In ...     True   \n",
       "3639    1122306         Wordpress: Comment utiliser le thème FABLE     True   \n",
       "3671     144222  YOU can Draw, Shade and Paint a Mixed Media Gi...     True   \n",
       "3681     964478                Zombie Apocalypse Photoshop Actions     True   \n",
       "\n",
       "     price  num_subscribers  num_reviews  num_lectures               level  \\\n",
       "8       25               72            5            17      Beginner Level   \n",
       "20      30                8            0            20  Intermediate Level   \n",
       "35      20              785            2            29          All Levels   \n",
       "39      20              113            9            48          All Levels   \n",
       "52      50               18            1            38          All Levels   \n",
       "...    ...              ...          ...           ...                 ...   \n",
       "3568    45             5072           38            44          All Levels   \n",
       "3588    20             1343           25            16          All Levels   \n",
       "3639    20                1            0            10      Beginner Level   \n",
       "3671    30             1249           44            19      Beginner Level   \n",
       "3681    50               12            1            15          All Levels   \n",
       "\n",
       "     content_duration   published_timestamp         subject  \n",
       "8              1 hour  2014-04-29T19:50:31Z  Graphic Design  \n",
       "20            3 hours  2017-04-11T04:27:34Z  Graphic Design  \n",
       "35          4.5 hours  2017-04-18T16:45:59Z  Graphic Design  \n",
       "39            9 hours  2015-09-15T00:23:14Z  Graphic Design  \n",
       "52          8.5 hours  2016-03-22T20:51:28Z  Graphic Design  \n",
       "...               ...                   ...             ...  \n",
       "3568          5 hours  2014-10-21T19:18:12Z  Graphic Design  \n",
       "3588           1 hour  2017-03-14T20:52:30Z  Graphic Design  \n",
       "3639          39 mins  2017-03-07T16:53:27Z  Graphic Design  \n",
       "3671          3 hours  2014-01-28T02:30:26Z  Graphic Design  \n",
       "3681        1.5 hours  2016-09-26T22:19:48Z  Graphic Design  \n",
       "\n",
       "[485 rows x 11 columns]"
      ]
     },
     "execution_count": 9,
     "metadata": {},
     "output_type": "execute_result"
    }
   ],
   "source": [
    "df[(df.subject=='Graphic Design') & (df.price.astype(\"int\")<100) ]"
   ]
  },
  {
   "cell_type": "markdown",
   "id": "94022242-a34e-4966-afe9-1a44fd9866ef",
   "metadata": {},
   "source": [
    "Q. 8) List out all the courses that are related to 'Python'."
   ]
  },
  {
   "cell_type": "code",
   "execution_count": 10,
   "id": "ad070272-c24f-4c7d-90d3-57dbe4b26676",
   "metadata": {},
   "outputs": [
    {
     "data": {
      "text/plain": [
       "216     Advanced Scalable Python Web Development Using...\n",
       "777     Coding for Entrepreneurs: Learn Python, Django...\n",
       "814     Complete Python Web Course: Build 8 Python Web...\n",
       "842     Core: A Web App Reference Guide for Django, Py...\n",
       "1400    Fun and creative web engineering with Python a...\n",
       "1932              Introduction to QGIS Python Programming\n",
       "1969            Investment Portfolio Analysis with Python\n",
       "2294          Learn Python and Django: Payment Processing\n",
       "2295              Learn Python Django - A Hands-On Course\n",
       "2341    Learn to code in Python and learn Adobe Photos...\n",
       "2906      Professional Python Web Development Using Flask\n",
       "2908    Professional RESTful API Design using Python F...\n",
       "2929                        Projects in Django and Python\n",
       "2952    Python Algo Stock Trading: Automate Your Trading!\n",
       "2953           Python Algo Trading: FX Trading with Oanda\n",
       "2954     Python Algo Trading: Sentiment Trading with News\n",
       "2955    Python and Django Full Stack Web Developer Boo...\n",
       "2956    Python for Beginners: Python Programming Langu...\n",
       "2957    Python for Finance: Investment Fundamentals & ...\n",
       "2958                       Python for Trading & Investing\n",
       "2959    Python Programming: Create an Digital Marketpl...\n",
       "2960                               Python Web Programming\n",
       "2962            Quantitative Trading Analysis with Python\n",
       "3013                      REST APIs with Flask and Python\n",
       "3154                 Stock Technical Analysis with Python\n",
       "3272    The Complete Ethical Hacking Course 2.0: Pytho...\n",
       "3460    Try Django 1.9 | Build a Blog and Learn Python...\n",
       "3573                          Web Programming with Python\n",
       "3574          Web Scraping with Python, Ruby & import. io\n",
       "Name: course_title, dtype: object"
      ]
     },
     "execution_count": 10,
     "metadata": {},
     "output_type": "execute_result"
    }
   ],
   "source": [
    "df[df.course_title.str.contains(\"Python\")][\"course_title\"]"
   ]
  },
  {
   "cell_type": "markdown",
   "id": "cd525be3-9bdf-40e8-86a8-d6078f5411cd",
   "metadata": {},
   "source": [
    "Q. 9) What are courses that were published in the year 2015 ?"
   ]
  },
  {
   "cell_type": "code",
   "execution_count": 11,
   "id": "757f6efd-dbf4-46f3-8334-4c5ca66286ff",
   "metadata": {},
   "outputs": [],
   "source": [
    "df.published_timestamp = pd.to_datetime(df.published_timestamp)"
   ]
  },
  {
   "cell_type": "code",
   "execution_count": 12,
   "id": "02f54461-e461-43b9-8fce-bfae72f8b515",
   "metadata": {},
   "outputs": [
    {
     "data": {
      "text/plain": [
       "10      1 - Concepts of Statistics For Beginners Step ...\n",
       "16            10 Numbers Every Business Owner Should Know\n",
       "19      101 Blues riffs - learn how the harmonica supe...\n",
       "23      16 Guitar Chords to Jam With - (Beginner - Int...\n",
       "26          2 Easy Steps To Investment And Avoiding Traps\n",
       "                              ...                        \n",
       "3675                           Your First Course on Piano\n",
       "3676    Your First Successful Forex Trades - With Case...\n",
       "3677    Your Own Site in 45 Min: The Complete Wordpres...\n",
       "3678      Your Second Course on Piano: Two Handed Playing\n",
       "3679    Zend Framework 2: Learn the PHP framework ZF2 ...\n",
       "Name: course_title, Length: 1014, dtype: object"
      ]
     },
     "execution_count": 12,
     "metadata": {},
     "output_type": "execute_result"
    }
   ],
   "source": [
    "df[df.published_timestamp.dt.year == 2015][\"course_title\"]"
   ]
  },
  {
   "cell_type": "markdown",
   "id": "d9dfc9ef-b43e-490d-96af-e181fb4df2a6",
   "metadata": {},
   "source": [
    "Q. 10) What is the Max. Number of Subscribers for Each Level of courses ?"
   ]
  },
  {
   "cell_type": "code",
   "execution_count": 13,
   "id": "6915e4bd-1c76-49b5-a127-e175c3f29c1c",
   "metadata": {},
   "outputs": [
    {
     "data": {
      "text/plain": [
       "level\n",
       "All Levels            268923\n",
       "Beginner Level        161029\n",
       "Expert Level            5172\n",
       "Intermediate Level     29167\n",
       "Name: num_subscribers, dtype: int64"
      ]
     },
     "execution_count": 13,
     "metadata": {},
     "output_type": "execute_result"
    }
   ],
   "source": [
    "df.groupby(by=\"level\")[\"num_subscribers\"].max()"
   ]
  }
 ],
 "metadata": {
  "kernelspec": {
   "display_name": "Python 3 (ipykernel)",
   "language": "python",
   "name": "python3"
  },
  "language_info": {
   "codemirror_mode": {
    "name": "ipython",
    "version": 3
   },
   "file_extension": ".py",
   "mimetype": "text/x-python",
   "name": "python",
   "nbconvert_exporter": "python",
   "pygments_lexer": "ipython3",
   "version": "3.9.7"
  }
 },
 "nbformat": 4,
 "nbformat_minor": 5
}
